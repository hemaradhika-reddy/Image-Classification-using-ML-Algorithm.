{
 "cells": [
  {
   "cell_type": "code",
   "execution_count": null,
   "metadata": {},
   "outputs": [],
   "source": [
    "import numpy as np  #for mathematical operations\n",
    "import matplotlib.pyplot as plt # for plotting\n",
    "import os  # for accessing the system files\n",
    "import cv2 # for reading the image inside the folders\n",
    "\n",
    "from tensorflow.keras.preprocessing import image # for performing operations on the image\n",
    "from tensorflow.keras.models import Sequential  # for creating an empty cnn model\n",
    "from keras.layers import Conv2D  # for creating a convolution layer\n",
    "from keras.layers import MaxPooling2D   # for creating a pooling layer\n",
    "from keras.layers import Flatten   # for flattening the output \n",
    "from keras.layers import Dense  # for creating a highly connected neural layer"
   ]
  },
  {
   "cell_type": "code",
   "execution_count": null,
   "metadata": {},
   "outputs": [],
   "source": [
    "train_path = \"D://SEM - 3//PML//p1//CNN//training_set\"\n",
    "\n",
    "emojis = os.listdir(train_path)\n",
    "emojis"
   ]
  },
  {
   "cell_type": "code",
   "execution_count": null,
   "metadata": {},
   "outputs": [],
   "source": [
    "X = []\n",
    "y = []\n",
    "\n",
    "for i in emojis:\n",
    "    path2 = os.path.join(train_path,i)\n",
    "    for j in os.listdir(path2):\n",
    "        img1 = cv2.imread(os.path.join(path2,j))\n",
    "        img = cv2.resize(img1,(128,128))\n",
    "        X.append(img)\n",
    "        y.append(emojis.index(i))\n",
    "\n",
    "plt.imshow(X[0])\n",
    "plt.show()"
   ]
  },
  {
   "cell_type": "code",
   "execution_count": null,
   "metadata": {},
   "outputs": [],
   "source": [
    "model = Sequential() #stacked layers in a sequence\n",
    "\n",
    "# HIDDEN LAYERS\n",
    "model.add(Conv2D(32, (3,3), activation = 'relu', input_shape = (128,128,3)))\n",
    "model.add(MaxPooling2D((2,2)))\n",
    "\n",
    "model.add(Conv2D(64, (3,3), activation= 'relu'))\n",
    "model.add(MaxPooling2D((2,2)))\n",
    "\n",
    "model.add(Conv2D(128, (3,3), activation= 'relu'))\n",
    "model.add(MaxPooling2D((2,2)))\n",
    "\n",
    "model.add(Flatten())\n",
    "model.add(Dense(128, activation='relu'))\n",
    "\n",
    "# OUTPUT LAYER\n",
    "model.add(Dense(2, activation='sigmoid'))"
   ]
  },
  {
   "cell_type": "code",
   "execution_count": null,
   "metadata": {},
   "outputs": [],
   "source": [
    "model.summary()"
   ]
  },
  {
   "cell_type": "code",
   "execution_count": null,
   "metadata": {},
   "outputs": [],
   "source": [
    "model.compile(loss='sparse_categorical_crossentropy',\n",
    "               optimizer='rmsprop',\n",
    "               metrics=['accuracy'])  # for Back propagation"
   ]
  },
  {
   "cell_type": "code",
   "execution_count": null,
   "metadata": {},
   "outputs": [],
   "source": [
    "from keras.preprocessing.image import ImageDataGenerator\n",
    "\n",
    "train_datagen = ImageDataGenerator(rescale = 1./255, shear_range = 0.2, zoom_range = 0.2, horizontal_flip = True)\n",
    "test_datagen = ImageDataGenerator(rescale = 1./255)\n",
    "\n",
    "training_set = train_datagen.flow_from_directory(\"D://SEM - 3//PML//p1//CNN//training_set\",target_size = (128,128),batch_size = 16,class_mode = 'binary')\n",
    "test_set = test_datagen.flow_from_directory(\"D://SEM - 3//PML//p1//CNN//test_set\",target_size = (128,128),batch_size = 1,class_mode = 'binary') \n"
   ]
  },
  {
   "cell_type": "code",
   "execution_count": null,
   "metadata": {},
   "outputs": [],
   "source": [
    "print(len(training_set))\n",
    "print(len((test_set)))"
   ]
  },
  {
   "cell_type": "code",
   "execution_count": null,
   "metadata": {},
   "outputs": [],
   "source": [
    "model.fit(training_set,epochs=15, batch_size=16)"
   ]
  },
  {
   "cell_type": "code",
   "execution_count": null,
   "metadata": {},
   "outputs": [],
   "source": [
    "model.evaluate(test_set)"
   ]
  },
  {
   "cell_type": "code",
   "execution_count": null,
   "metadata": {},
   "outputs": [],
   "source": [
    "t_path = \"D://SEM - 3//PML//p1//CNN//test_set//cats//cat.4352.jpg\"\n",
    "                \n",
    "img = image.load_img(t_path, target_size=(128,128,3))\n",
    "img_array = image.img_to_array(img)\n",
    "img_batch = np.expand_dims(img,axis=0)\n",
    "\n",
    "plt.imshow(img)\n",
    "plt.show\n",
    "print(img.size)"
   ]
  },
  {
   "cell_type": "code",
   "execution_count": null,
   "metadata": {},
   "outputs": [],
   "source": [
    "pred = model.predict(img_batch)\n",
    "pred"
   ]
  },
  {
   "cell_type": "code",
   "execution_count": null,
   "metadata": {},
   "outputs": [],
   "source": [
    "y_pred = np.argmax(model.predict(img_batch),axis=1)\n",
    "\n",
    "if np.round(y_pred) == 1:\n",
    "    print(\"IT IS A DOG\")\n",
    "else:\n",
    "    print(\"IT IS A CAT\")"
   ]
  },
  {
   "cell_type": "code",
   "execution_count": null,
   "metadata": {},
   "outputs": [],
   "source": [
    "y_pred"
   ]
  }
 ],
 "metadata": {
  "kernelspec": {
   "display_name": "Python 3",
   "language": "python",
   "name": "python3"
  },
  "language_info": {
   "codemirror_mode": {
    "name": "ipython",
    "version": 3
   },
   "file_extension": ".py",
   "mimetype": "text/x-python",
   "name": "python",
   "nbconvert_exporter": "python",
   "pygments_lexer": "ipython3",
   "version": "3.10.5"
  },
  "orig_nbformat": 4,
  "vscode": {
   "interpreter": {
    "hash": "67ba90f8d327c52e4aa5c3254bc659531a63bda8231bc974b92348f7aab6a388"
   }
  }
 },
 "nbformat": 4,
 "nbformat_minor": 2
}
